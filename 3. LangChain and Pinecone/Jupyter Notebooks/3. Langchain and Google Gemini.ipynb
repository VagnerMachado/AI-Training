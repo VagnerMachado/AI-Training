{
 "cells": [
  {
   "cell_type": "markdown",
   "id": "90fa4985-c990-4a3d-bcf9-5ecd19fa7ac4",
   "metadata": {},
   "source": [
    "# Gemini types\n",
    "- Ultra: The larges and most capabel model\n",
    "- Pro: The best model for scaling\n",
    "- Nano: 1.8 and 3.2B parameters, the most efficient model for on-device\n",
    "\n",
    "Models use transformer tech\n",
    "Accuracy is increased when the model increases, so Ultra is better than Nano."
   ]
  },
  {
   "cell_type": "markdown",
   "id": "b621e6ba-da3e-4364-a8b6-8cd3fe9e819b",
   "metadata": {},
   "source": [
    "# Gemini prompts and templates"
   ]
  },
  {
   "cell_type": "code",
   "execution_count": 1,
   "id": "d5a3d4e7-d2f8-4ba7-b4d9-34b2e1843e7e",
   "metadata": {},
   "outputs": [
    {
     "name": "stdout",
     "output_type": "stream",
     "text": [
      "Defaulting to user installation because normal site-packages is not writeable\n",
      "Collecting langchain-google-genai\n",
      "  Downloading langchain_google_genai-2.0.1-py3-none-any.whl.metadata (3.9 kB)\n",
      "Collecting google-generativeai<0.9.0,>=0.8.0 (from langchain-google-genai)\n",
      "  Downloading google_generativeai-0.8.3-py3-none-any.whl.metadata (3.9 kB)\n",
      "Requirement already satisfied: langchain-core<0.4,>=0.3.0 in c:\\users\\vagner machado\\appdata\\roaming\\python\\python312\\site-packages (from langchain-google-genai) (0.3.0)\n",
      "Requirement already satisfied: pydantic<3,>=2 in c:\\users\\vagner machado\\appdata\\roaming\\python\\python312\\site-packages (from langchain-google-genai) (2.8.2)\n",
      "Collecting google-ai-generativelanguage==0.6.10 (from google-generativeai<0.9.0,>=0.8.0->langchain-google-genai)\n",
      "  Downloading google_ai_generativelanguage-0.6.10-py3-none-any.whl.metadata (5.6 kB)\n",
      "Collecting google-api-core (from google-generativeai<0.9.0,>=0.8.0->langchain-google-genai)\n",
      "  Downloading google_api_core-2.20.0-py3-none-any.whl.metadata (2.7 kB)\n",
      "Collecting google-api-python-client (from google-generativeai<0.9.0,>=0.8.0->langchain-google-genai)\n",
      "  Downloading google_api_python_client-2.148.0-py2.py3-none-any.whl.metadata (6.7 kB)\n",
      "Collecting google-auth>=2.15.0 (from google-generativeai<0.9.0,>=0.8.0->langchain-google-genai)\n",
      "  Downloading google_auth-2.35.0-py2.py3-none-any.whl.metadata (4.7 kB)\n",
      "Collecting protobuf (from google-generativeai<0.9.0,>=0.8.0->langchain-google-genai)\n",
      "  Downloading protobuf-5.28.2-cp310-abi3-win_amd64.whl.metadata (592 bytes)\n",
      "Requirement already satisfied: tqdm in c:\\users\\vagner machado\\appdata\\roaming\\python\\python312\\site-packages (from google-generativeai<0.9.0,>=0.8.0->langchain-google-genai) (4.66.5)\n",
      "Requirement already satisfied: typing-extensions in c:\\users\\vagner machado\\appdata\\roaming\\python\\python312\\site-packages (from google-generativeai<0.9.0,>=0.8.0->langchain-google-genai) (4.12.2)\n",
      "Collecting proto-plus<2.0.0dev,>=1.22.3 (from google-ai-generativelanguage==0.6.10->google-generativeai<0.9.0,>=0.8.0->langchain-google-genai)\n",
      "  Downloading proto_plus-1.24.0-py3-none-any.whl.metadata (2.2 kB)\n",
      "Requirement already satisfied: PyYAML>=5.3 in c:\\users\\vagner machado\\appdata\\roaming\\python\\python312\\site-packages (from langchain-core<0.4,>=0.3.0->langchain-google-genai) (6.0.2)\n",
      "Requirement already satisfied: jsonpatch<2.0,>=1.33 in c:\\users\\vagner machado\\appdata\\roaming\\python\\python312\\site-packages (from langchain-core<0.4,>=0.3.0->langchain-google-genai) (1.33)\n",
      "Requirement already satisfied: langsmith<0.2.0,>=0.1.117 in c:\\users\\vagner machado\\appdata\\roaming\\python\\python312\\site-packages (from langchain-core<0.4,>=0.3.0->langchain-google-genai) (0.1.121)\n",
      "Requirement already satisfied: packaging<25,>=23.2 in c:\\users\\vagner machado\\appdata\\roaming\\python\\python312\\site-packages (from langchain-core<0.4,>=0.3.0->langchain-google-genai) (24.1)\n",
      "Requirement already satisfied: tenacity!=8.4.0,<9.0.0,>=8.1.0 in c:\\users\\vagner machado\\appdata\\roaming\\python\\python312\\site-packages (from langchain-core<0.4,>=0.3.0->langchain-google-genai) (8.5.0)\n",
      "Requirement already satisfied: annotated-types>=0.4.0 in c:\\users\\vagner machado\\appdata\\roaming\\python\\python312\\site-packages (from pydantic<3,>=2->langchain-google-genai) (0.7.0)\n",
      "Requirement already satisfied: pydantic-core==2.20.1 in c:\\users\\vagner machado\\appdata\\roaming\\python\\python312\\site-packages (from pydantic<3,>=2->langchain-google-genai) (2.20.1)\n",
      "Collecting googleapis-common-protos<2.0.dev0,>=1.56.2 (from google-api-core->google-generativeai<0.9.0,>=0.8.0->langchain-google-genai)\n",
      "  Downloading googleapis_common_protos-1.65.0-py2.py3-none-any.whl.metadata (1.5 kB)\n",
      "Requirement already satisfied: requests<3.0.0.dev0,>=2.18.0 in c:\\users\\vagner machado\\appdata\\roaming\\python\\python312\\site-packages (from google-api-core->google-generativeai<0.9.0,>=0.8.0->langchain-google-genai) (2.32.3)\n",
      "Collecting cachetools<6.0,>=2.0.0 (from google-auth>=2.15.0->google-generativeai<0.9.0,>=0.8.0->langchain-google-genai)\n",
      "  Downloading cachetools-5.5.0-py3-none-any.whl.metadata (5.3 kB)\n",
      "Collecting pyasn1-modules>=0.2.1 (from google-auth>=2.15.0->google-generativeai<0.9.0,>=0.8.0->langchain-google-genai)\n",
      "  Downloading pyasn1_modules-0.4.1-py3-none-any.whl.metadata (3.5 kB)\n",
      "Collecting rsa<5,>=3.1.4 (from google-auth>=2.15.0->google-generativeai<0.9.0,>=0.8.0->langchain-google-genai)\n",
      "  Downloading rsa-4.9-py3-none-any.whl.metadata (4.2 kB)\n",
      "Requirement already satisfied: jsonpointer>=1.9 in c:\\users\\vagner machado\\appdata\\roaming\\python\\python312\\site-packages (from jsonpatch<2.0,>=1.33->langchain-core<0.4,>=0.3.0->langchain-google-genai) (3.0.0)\n",
      "Requirement already satisfied: httpx<1,>=0.23.0 in c:\\users\\vagner machado\\appdata\\roaming\\python\\python312\\site-packages (from langsmith<0.2.0,>=0.1.117->langchain-core<0.4,>=0.3.0->langchain-google-genai) (0.27.0)\n",
      "Requirement already satisfied: orjson<4.0.0,>=3.9.14 in c:\\users\\vagner machado\\appdata\\roaming\\python\\python312\\site-packages (from langsmith<0.2.0,>=0.1.117->langchain-core<0.4,>=0.3.0->langchain-google-genai) (3.10.7)\n",
      "Collecting httplib2<1.dev0,>=0.19.0 (from google-api-python-client->google-generativeai<0.9.0,>=0.8.0->langchain-google-genai)\n",
      "  Downloading httplib2-0.22.0-py3-none-any.whl.metadata (2.6 kB)\n",
      "Collecting google-auth-httplib2<1.0.0,>=0.2.0 (from google-api-python-client->google-generativeai<0.9.0,>=0.8.0->langchain-google-genai)\n",
      "  Downloading google_auth_httplib2-0.2.0-py2.py3-none-any.whl.metadata (2.2 kB)\n",
      "Collecting uritemplate<5,>=3.0.1 (from google-api-python-client->google-generativeai<0.9.0,>=0.8.0->langchain-google-genai)\n",
      "  Downloading uritemplate-4.1.1-py2.py3-none-any.whl.metadata (2.9 kB)\n",
      "Requirement already satisfied: colorama in c:\\users\\vagner machado\\appdata\\roaming\\python\\python312\\site-packages (from tqdm->google-generativeai<0.9.0,>=0.8.0->langchain-google-genai) (0.4.6)\n",
      "Collecting grpcio<2.0dev,>=1.33.2 (from google-api-core[grpc]!=2.0.*,!=2.1.*,!=2.10.*,!=2.2.*,!=2.3.*,!=2.4.*,!=2.5.*,!=2.6.*,!=2.7.*,!=2.8.*,!=2.9.*,<3.0.0dev,>=1.34.1->google-ai-generativelanguage==0.6.10->google-generativeai<0.9.0,>=0.8.0->langchain-google-genai)\n",
      "  Downloading grpcio-1.66.2-cp312-cp312-win_amd64.whl.metadata (4.0 kB)\n",
      "Collecting grpcio-status<2.0.dev0,>=1.33.2 (from google-api-core[grpc]!=2.0.*,!=2.1.*,!=2.10.*,!=2.2.*,!=2.3.*,!=2.4.*,!=2.5.*,!=2.6.*,!=2.7.*,!=2.8.*,!=2.9.*,<3.0.0dev,>=1.34.1->google-ai-generativelanguage==0.6.10->google-generativeai<0.9.0,>=0.8.0->langchain-google-genai)\n",
      "  Downloading grpcio_status-1.66.2-py3-none-any.whl.metadata (1.1 kB)\n",
      "Collecting pyparsing!=3.0.0,!=3.0.1,!=3.0.2,!=3.0.3,<4,>=2.4.2 (from httplib2<1.dev0,>=0.19.0->google-api-python-client->google-generativeai<0.9.0,>=0.8.0->langchain-google-genai)\n",
      "  Downloading pyparsing-3.1.4-py3-none-any.whl.metadata (5.1 kB)\n",
      "Requirement already satisfied: anyio in c:\\users\\vagner machado\\appdata\\roaming\\python\\python312\\site-packages (from httpx<1,>=0.23.0->langsmith<0.2.0,>=0.1.117->langchain-core<0.4,>=0.3.0->langchain-google-genai) (4.4.0)\n",
      "Requirement already satisfied: certifi in c:\\users\\vagner machado\\appdata\\roaming\\python\\python312\\site-packages (from httpx<1,>=0.23.0->langsmith<0.2.0,>=0.1.117->langchain-core<0.4,>=0.3.0->langchain-google-genai) (2024.7.4)\n",
      "Requirement already satisfied: httpcore==1.* in c:\\users\\vagner machado\\appdata\\roaming\\python\\python312\\site-packages (from httpx<1,>=0.23.0->langsmith<0.2.0,>=0.1.117->langchain-core<0.4,>=0.3.0->langchain-google-genai) (1.0.5)\n",
      "Requirement already satisfied: idna in c:\\users\\vagner machado\\appdata\\roaming\\python\\python312\\site-packages (from httpx<1,>=0.23.0->langsmith<0.2.0,>=0.1.117->langchain-core<0.4,>=0.3.0->langchain-google-genai) (3.8)\n",
      "Requirement already satisfied: sniffio in c:\\users\\vagner machado\\appdata\\roaming\\python\\python312\\site-packages (from httpx<1,>=0.23.0->langsmith<0.2.0,>=0.1.117->langchain-core<0.4,>=0.3.0->langchain-google-genai) (1.3.1)\n",
      "Requirement already satisfied: h11<0.15,>=0.13 in c:\\users\\vagner machado\\appdata\\roaming\\python\\python312\\site-packages (from httpcore==1.*->httpx<1,>=0.23.0->langsmith<0.2.0,>=0.1.117->langchain-core<0.4,>=0.3.0->langchain-google-genai) (0.14.0)\n",
      "Collecting pyasn1<0.7.0,>=0.4.6 (from pyasn1-modules>=0.2.1->google-auth>=2.15.0->google-generativeai<0.9.0,>=0.8.0->langchain-google-genai)\n",
      "  Downloading pyasn1-0.6.1-py3-none-any.whl.metadata (8.4 kB)\n",
      "Requirement already satisfied: charset-normalizer<4,>=2 in c:\\users\\vagner machado\\appdata\\roaming\\python\\python312\\site-packages (from requests<3.0.0.dev0,>=2.18.0->google-api-core->google-generativeai<0.9.0,>=0.8.0->langchain-google-genai) (3.3.2)\n",
      "Requirement already satisfied: urllib3<3,>=1.21.1 in c:\\users\\vagner machado\\appdata\\roaming\\python\\python312\\site-packages (from requests<3.0.0.dev0,>=2.18.0->google-api-core->google-generativeai<0.9.0,>=0.8.0->langchain-google-genai) (2.2.2)\n",
      "Downloading langchain_google_genai-2.0.1-py3-none-any.whl (40 kB)\n",
      "Downloading google_generativeai-0.8.3-py3-none-any.whl (160 kB)\n",
      "Downloading google_ai_generativelanguage-0.6.10-py3-none-any.whl (760 kB)\n",
      "   ---------------------------------------- 0.0/760.0 kB ? eta -:--:--\n",
      "   --------------------------- ------------ 524.3/760.0 kB 4.2 MB/s eta 0:00:01\n",
      "   ---------------------------------------- 760.0/760.0 kB 2.9 MB/s eta 0:00:00\n",
      "Downloading google_api_core-2.20.0-py3-none-any.whl (142 kB)\n",
      "Downloading google_auth-2.35.0-py2.py3-none-any.whl (208 kB)\n",
      "Downloading protobuf-5.28.2-cp310-abi3-win_amd64.whl (431 kB)\n",
      "Downloading google_api_python_client-2.148.0-py2.py3-none-any.whl (12.3 MB)\n",
      "   ---------------------------------------- 0.0/12.3 MB ? eta -:--:--\n",
      "    --------------------------------------- 0.3/12.3 MB ? eta -:--:--\n",
      "   -- ------------------------------------- 0.8/12.3 MB 2.8 MB/s eta 0:00:05\n",
      "   ----- ---------------------------------- 1.6/12.3 MB 3.1 MB/s eta 0:00:04\n",
      "   ------- -------------------------------- 2.4/12.3 MB 3.0 MB/s eta 0:00:04\n",
      "   --------- ------------------------------ 2.9/12.3 MB 3.0 MB/s eta 0:00:04\n",
      "   ----------- ---------------------------- 3.7/12.3 MB 3.1 MB/s eta 0:00:03\n",
      "   ------------- -------------------------- 4.2/12.3 MB 3.0 MB/s eta 0:00:03\n",
      "   ---------------- ----------------------- 5.0/12.3 MB 3.1 MB/s eta 0:00:03\n",
      "   ------------------ --------------------- 5.8/12.3 MB 3.1 MB/s eta 0:00:03\n",
      "   -------------------- ------------------- 6.3/12.3 MB 3.2 MB/s eta 0:00:02\n",
      "   ---------------------- ----------------- 6.8/12.3 MB 3.0 MB/s eta 0:00:02\n",
      "   ------------------------ --------------- 7.6/12.3 MB 3.1 MB/s eta 0:00:02\n",
      "   --------------------------- ------------ 8.4/12.3 MB 3.2 MB/s eta 0:00:02\n",
      "   ----------------------------- ---------- 9.2/12.3 MB 3.2 MB/s eta 0:00:01\n",
      "   ------------------------------- -------- 9.7/12.3 MB 3.2 MB/s eta 0:00:01\n",
      "   ---------------------------------- ----- 10.5/12.3 MB 3.2 MB/s eta 0:00:01\n",
      "   ------------------------------------ --- 11.3/12.3 MB 3.2 MB/s eta 0:00:01\n",
      "   -------------------------------------- - 11.8/12.3 MB 3.2 MB/s eta 0:00:01\n",
      "   ---------------------------------------- 12.3/12.3 MB 3.1 MB/s eta 0:00:00\n",
      "Downloading cachetools-5.5.0-py3-none-any.whl (9.5 kB)\n",
      "Downloading google_auth_httplib2-0.2.0-py2.py3-none-any.whl (9.3 kB)\n",
      "Downloading googleapis_common_protos-1.65.0-py2.py3-none-any.whl (220 kB)\n",
      "Downloading httplib2-0.22.0-py3-none-any.whl (96 kB)\n",
      "Downloading proto_plus-1.24.0-py3-none-any.whl (50 kB)\n",
      "Downloading pyasn1_modules-0.4.1-py3-none-any.whl (181 kB)\n",
      "Downloading rsa-4.9-py3-none-any.whl (34 kB)\n",
      "Downloading uritemplate-4.1.1-py2.py3-none-any.whl (10 kB)\n",
      "Downloading grpcio-1.66.2-cp312-cp312-win_amd64.whl (4.3 MB)\n",
      "   ---------------------------------------- 0.0/4.3 MB ? eta -:--:--\n",
      "   ---- ----------------------------------- 0.5/4.3 MB 4.2 MB/s eta 0:00:01\n",
      "   ------------ --------------------------- 1.3/4.3 MB 3.9 MB/s eta 0:00:01\n",
      "   ----------------- ---------------------- 1.8/4.3 MB 3.1 MB/s eta 0:00:01\n",
      "   ---------------------- ----------------- 2.4/4.3 MB 3.2 MB/s eta 0:00:01\n",
      "   ------------------------ --------------- 2.6/4.3 MB 3.0 MB/s eta 0:00:01\n",
      "   ----------------------------- ---------- 3.1/4.3 MB 2.7 MB/s eta 0:00:01\n",
      "   ------------------------------------ --- 3.9/4.3 MB 2.8 MB/s eta 0:00:01\n",
      "   ---------------------------------------- 4.3/4.3 MB 2.6 MB/s eta 0:00:00\n",
      "Downloading grpcio_status-1.66.2-py3-none-any.whl (14 kB)\n",
      "Downloading pyasn1-0.6.1-py3-none-any.whl (83 kB)\n",
      "Downloading pyparsing-3.1.4-py3-none-any.whl (104 kB)\n",
      "Installing collected packages: uritemplate, pyparsing, pyasn1, protobuf, grpcio, cachetools, rsa, pyasn1-modules, proto-plus, httplib2, googleapis-common-protos, grpcio-status, google-auth, google-auth-httplib2, google-api-core, google-api-python-client, google-ai-generativelanguage, google-generativeai, langchain-google-genai\n",
      "Successfully installed cachetools-5.5.0 google-ai-generativelanguage-0.6.10 google-api-core-2.20.0 google-api-python-client-2.148.0 google-auth-2.35.0 google-auth-httplib2-0.2.0 google-generativeai-0.8.3 googleapis-common-protos-1.65.0 grpcio-1.66.2 grpcio-status-1.66.2 httplib2-0.22.0 langchain-google-genai-2.0.1 proto-plus-1.24.0 protobuf-5.28.2 pyasn1-0.6.1 pyasn1-modules-0.4.1 pyparsing-3.1.4 rsa-4.9 uritemplate-4.1.1\n"
     ]
    }
   ],
   "source": [
    "!pip install langchain-google-genai"
   ]
  },
  {
   "cell_type": "code",
   "execution_count": 3,
   "id": "83b7b3c9-1c2d-48d5-b1b7-b631d2acf582",
   "metadata": {},
   "outputs": [],
   "source": [
    "!pip install --upgrade -q langchain-google-genai"
   ]
  },
  {
   "cell_type": "code",
   "execution_count": 5,
   "id": "43a3addc-4ce0-4b3b-9a95-64c561e5b18d",
   "metadata": {},
   "outputs": [
    {
     "name": "stdout",
     "output_type": "stream",
     "text": [
      "Name: langchain-google-genai\n",
      "Version: 2.0.1\n",
      "Summary: An integration package connecting Google's genai package and LangChain\n",
      "Home-page: https://github.com/langchain-ai/langchain-google\n",
      "Author: \n",
      "Author-email: \n",
      "License: MIT\n",
      "Location: C:\\Users\\Vagner Machado\\AppData\\Roaming\\Python\\Python312\\site-packages\n",
      "Requires: google-generativeai, langchain-core, pydantic\n",
      "Required-by: \n"
     ]
    }
   ],
   "source": [
    "!pip show langchain-google-genai"
   ]
  },
  {
   "cell_type": "code",
   "execution_count": 7,
   "id": "2c66166b-cb6e-4480-acca-9886a0824aeb",
   "metadata": {},
   "outputs": [
    {
     "data": {
      "text/plain": [
       "True"
      ]
     },
     "execution_count": 7,
     "metadata": {},
     "output_type": "execute_result"
    }
   ],
   "source": [
    "from dotenv import load_dotenv, find_dotenv\n",
    "load_dotenv(find_dotenv(), override=True)"
   ]
  },
  {
   "cell_type": "code",
   "execution_count": 11,
   "id": "5ba690b8-a1bb-4afd-8b25-8f0add7e74ac",
   "metadata": {},
   "outputs": [
    {
     "name": "stdout",
     "output_type": "stream",
     "text": [
      "API key loaded from .env file\n"
     ]
    }
   ],
   "source": [
    "import getpass\n",
    "import os\n",
    "if 'GOOGLE_API_KEY' not in os.environ:\n",
    "    os.environ['GOOGLE_API_KEY'] = getpass.getpass(\"Provide your google api key\")\n",
    "else:\n",
    "    print(\"API key loaded from .env file\")\n"
   ]
  },
  {
   "cell_type": "code",
   "execution_count": 12,
   "id": "63dd094a-d3d6-4ec7-9798-14d78890b9c8",
   "metadata": {},
   "outputs": [
    {
     "name": "stdout",
     "output_type": "stream",
     "text": [
      "models/chat-bison-001\n",
      "models/text-bison-001\n",
      "models/embedding-gecko-001\n",
      "models/gemini-1.0-pro-latest\n",
      "models/gemini-1.0-pro\n",
      "models/gemini-pro\n",
      "models/gemini-1.0-pro-001\n",
      "models/gemini-1.0-pro-vision-latest\n",
      "models/gemini-pro-vision\n",
      "models/gemini-1.5-pro-latest\n",
      "models/gemini-1.5-pro-001\n",
      "models/gemini-1.5-pro-002\n",
      "models/gemini-1.5-pro\n",
      "models/gemini-1.5-pro-exp-0801\n",
      "models/gemini-1.5-pro-exp-0827\n",
      "models/gemini-1.5-flash-latest\n",
      "models/gemini-1.5-flash-001\n",
      "models/gemini-1.5-flash-001-tuning\n",
      "models/gemini-1.5-flash\n",
      "models/gemini-1.5-flash-exp-0827\n",
      "models/gemini-1.5-flash-002\n",
      "models/gemini-1.5-flash-8b\n",
      "models/gemini-1.5-flash-8b-001\n",
      "models/gemini-1.5-flash-8b-latest\n",
      "models/gemini-1.5-flash-8b-exp-0827\n",
      "models/gemini-1.5-flash-8b-exp-0924\n",
      "models/embedding-001\n",
      "models/text-embedding-004\n",
      "models/aqa\n"
     ]
    }
   ],
   "source": [
    "import google.generativeai as genai\n",
    "for model in genai.list_models():\n",
    "    print(model.name)"
   ]
  },
  {
   "cell_type": "code",
   "execution_count": 13,
   "id": "79613c33-1c90-4e19-8760-5f3a86931e11",
   "metadata": {},
   "outputs": [
    {
     "name": "stdout",
     "output_type": "stream",
     "text": [
      "The dusty red plains of Mars shimmered under the pale light of two suns. Above, the Martian sky, a canvas of lavender and orange, was dotted with the sleek, silver domes that housed the Martian colony. Within these domes, a bustling society had taken root. Children played in simulated parks, scientists toiled in laboratories bathed in the sterile glow of hydroponic farms, and families gathered for meals, their faces illuminated by the warm glow of holographic screens. Though the air was thin and the gravity weak, a sense of belonging had blossomed in the hearts of these pioneers. This was their home now, a testament to the ingenuity of humanity and the enduring human spirit, a place where they were building a new future on the surface of an alien world. \n",
      "\n"
     ]
    }
   ],
   "source": [
    "from langchain_google_genai import ChatGoogleGenerativeAI\n",
    "llm = ChatGoogleGenerativeAI(model=\"gemini-1.5-flash\", temperature=0.9)\n",
    "response = llm.invoke(\"Write one paragraph about a society living in mars in the year 2039\")\n",
    "print(response.content)"
   ]
  },
  {
   "cell_type": "code",
   "execution_count": 20,
   "id": "f0b04014-21d2-4406-88bd-f93041cf8a61",
   "metadata": {},
   "outputs": [
    {
     "name": "stderr",
     "output_type": "stream",
     "text": [
      "Error in StdOutCallbackHandler.on_chain_start callback: AttributeError(\"'NoneType' object has no attribute 'get'\")\n"
     ]
    },
    {
     "name": "stdout",
     "output_type": "stream",
     "text": [
      "Prompt after formatting:\n",
      "\u001b[32;1m\u001b[1;3mYou are a expert content creator. Write a tweet about Why will AI revolutionize the world\u001b[0m\n",
      "\n",
      "\u001b[1m> Finished chain.\u001b[0m\n",
      "Why will AI revolutionize the world\n",
      "\n",
      "AI isn't just a buzzword, it's a revolution in the making! 🚀 From personalized healthcare to smarter cities, AI is poised to transform every aspect of our lives.  #AI #FutureTech #Innovation \n",
      "\n"
     ]
    }
   ],
   "source": [
    "from langchain.prompts import PromptTemplate\n",
    "from langchain.chains import LLMChain\n",
    "llm = ChatGoogleGenerativeAI(model=\"gemini-1.5-flash\")\n",
    "\n",
    "prompt = PromptTemplate.from_template(\"You are a expert content creator. Write a tweet about {topic}\")\n",
    "chain = LLMChain(llm = llm, prompt = prompt, verbose = True)\n",
    "topic = \"Why will AI revolutionize the world\"\n",
    "response = chain.invoke(input=topic)\n",
    "print(response[\"topic\"])\n",
    "print()\n",
    "print(response[\"text\"])"
   ]
  },
  {
   "cell_type": "markdown",
   "id": "dd14e318-329e-4081-bc40-3638c6427e39",
   "metadata": {},
   "source": [
    "# System Prompt and Streaming"
   ]
  },
  {
   "cell_type": "code",
   "execution_count": 37,
   "id": "19bf4eca-f15a-47f5-a3c3-54b2af0370e5",
   "metadata": {},
   "outputs": [
    {
     "data": {
      "text/plain": [
       "AIMessage(content=\"The sun, a fiery orb, descends the west,\\nA crimson blush upon the fading sky,\\nWhere clouds like painted brushstrokes, gently rest,\\nAnd shadows lengthen, as the day bids goodbye. \\nThe air grows crisp, a whisper of the breeze,\\nCarries the scent of leaves, both brown and gold,\\nA melancholy song, the wind appease,\\nAs nature's beauty, in its prime, unfolds. \\nThe trees, once vibrant, now begin to shed,\\nTheir golden garments, on the earth below,\\nA tapestry of hues, a vibrant thread,\\nWhere life and death, in silent harmony, flow.\\nIn autumn's embrace, a bittersweet farewell,\\nAs day surrenders, to the night's dark spell. \\n\", additional_kwargs={}, response_metadata={'prompt_feedback': {'block_reason': 0, 'safety_ratings': []}, 'finish_reason': 'STOP', 'safety_ratings': [{'category': 'HARM_CATEGORY_SEXUALLY_EXPLICIT', 'probability': 'NEGLIGIBLE', 'blocked': False}, {'category': 'HARM_CATEGORY_HATE_SPEECH', 'probability': 'NEGLIGIBLE', 'blocked': False}, {'category': 'HARM_CATEGORY_HARASSMENT', 'probability': 'NEGLIGIBLE', 'blocked': False}, {'category': 'HARM_CATEGORY_DANGEROUS_CONTENT', 'probability': 'NEGLIGIBLE', 'blocked': False}]}, id='run-5859c59b-16f7-4a6c-999c-a331be653ae5-0', usage_metadata={'input_tokens': 27, 'output_tokens': 160, 'total_tokens': 187})"
      ]
     },
     "execution_count": 37,
     "metadata": {},
     "output_type": "execute_result"
    }
   ],
   "source": [
    "from langchain_core.messages import HumanMessage, SystemMessage\n",
    "llm = ChatGoogleGenerativeAI(model=\"gemini-1.5-flash\", temperature=1.0)\n",
    "messages = [\n",
    "    (\n",
    "        \"system\",\n",
    "        \"You are a helpful poet who is an expert at writing Sonnets. Write a sonnet based on human input\",\n",
    "    ),\n",
    "    (\"human\", \"sunset in the outumn\")\n",
    "]\n",
    "llm.invoke(messages)"
   ]
  },
  {
   "cell_type": "code",
   "execution_count": null,
   "id": "2143a569-2f1e-4d67-92e6-bfa25aa5cbd3",
   "metadata": {},
   "outputs": [],
   "source": []
  }
 ],
 "metadata": {
  "kernelspec": {
   "display_name": "Python 3 (ipykernel)",
   "language": "python",
   "name": "python3"
  },
  "language_info": {
   "codemirror_mode": {
    "name": "ipython",
    "version": 3
   },
   "file_extension": ".py",
   "mimetype": "text/x-python",
   "name": "python",
   "nbconvert_exporter": "python",
   "pygments_lexer": "ipython3",
   "version": "3.12.5"
  }
 },
 "nbformat": 4,
 "nbformat_minor": 5
}
