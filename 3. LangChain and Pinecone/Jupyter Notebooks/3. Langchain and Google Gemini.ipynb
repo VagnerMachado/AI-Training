{
 "cells": [
  {
   "cell_type": "code",
   "execution_count": null,
   "id": "e165e23d-0ffc-4f14-a700-e97f266ea214",
   "metadata": {},
   "outputs": [],
   "source": []
  }
 ],
 "metadata": {
  "kernelspec": {
   "display_name": "Python 3 (ipykernel)",
   "language": "python",
   "name": "python3"
  },
  "language_info": {
   "codemirror_mode": {
    "name": "ipython",
    "version": 3
   },
   "file_extension": ".py",
   "mimetype": "text/x-python",
   "name": "python",
   "nbconvert_exporter": "python",
   "pygments_lexer": "ipython3",
   "version": "3.12.5"
  }
 },
 "nbformat": 4,
 "nbformat_minor": 5
}
