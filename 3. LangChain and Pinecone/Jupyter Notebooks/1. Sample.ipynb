{
 "cells": [
  {
   "cell_type": "markdown",
   "metadata": {},
   "source": [
    "# Sample Jupyter Notebook\n",
    "\n",
    "Case you cannot install the Jupyter Notebooks, you can use a Google alternative:\n",
    "- [Google Colab](https://www.colab.research.google.com) : You can use AI to prompt."
   ]
  },
  {
   "cell_type": "code",
   "execution_count": 1,
   "metadata": {},
   "outputs": [
    {
     "name": "stdout",
     "output_type": "stream",
     "text": [
      "hello\n"
     ]
    }
   ],
   "source": [
    "print(\"hello\")\n"
   ]
  },
  {
   "cell_type": "code",
   "execution_count": 3,
   "metadata": {},
   "outputs": [
    {
     "name": "stdout",
     "output_type": "stream",
     "text": [
      "32\n",
      "33\n",
      "34\n"
     ]
    }
   ],
   "source": [
    "x = 32\n",
    "while x < 35:\n",
    "    print(x)\n",
    "    x+=1"
   ]
  },
  {
   "cell_type": "code",
   "execution_count": 7,
   "metadata": {},
   "outputs": [
    {
     "name": "stdout",
     "output_type": "stream",
     "text": [
      "All good\n"
     ]
    }
   ],
   "source": [
    "if x < 35:\n",
    "    print(\"Not all iterations happened\")\n",
    "elif x == 35:\n",
    "    print(\"All good\")\n",
    "else:\n",
    "    print(\"Houston..\")"
   ]
  },
  {
   "cell_type": "markdown",
   "metadata": {},
   "source": [
    "# Notes\n",
    "\n",
    "---\n",
    "\n",
    "We can create Markdown in a cell by selecting in dropdown Markdown instead of code when a cell is selected.\n",
    "\n",
    "- List\n",
    "    - Item 1\n",
    "    - Another Item\n",
    "\n",
    "# H1\n",
    "## H2\n",
    "### H3\n",
    "\n",
    "---  \n",
    "    \n",
    "**Bold text starts/ends with double \\*\\*** while *italics start/end with single \\**\n",
    "\n",
    "For more MD syntax [Visit this repo](https://github.com/adam-p/markdown-here/wiki/Markdown-Cheatsheet#headers)\n",
    "\n",
    "- in the toolbar above one can find shortcuts such as:\n",
    "    - DD to delete a selected cell\n",
    "    - A to create a cell After one selected\n",
    "    - B to create a cell Before one selected"
   ]
  },
  {
   "cell_type": "code",
   "execution_count": null,
   "metadata": {},
   "outputs": [],
   "source": []
  }
 ],
 "metadata": {
  "kernelspec": {
   "display_name": "Python 3",
   "language": "python",
   "name": "python3"
  },
  "language_info": {
   "codemirror_mode": {
    "name": "ipython",
    "version": 3
   },
   "file_extension": ".py",
   "mimetype": "text/x-python",
   "name": "python",
   "nbconvert_exporter": "python",
   "pygments_lexer": "ipython3",
   "version": "3.8.3"
  }
 },
 "nbformat": 4,
 "nbformat_minor": 4
}
