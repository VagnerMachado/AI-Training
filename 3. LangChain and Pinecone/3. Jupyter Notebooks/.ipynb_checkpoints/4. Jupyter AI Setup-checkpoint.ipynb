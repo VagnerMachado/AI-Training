{
 "cells": [
  {
   "cell_type": "markdown",
   "id": "daa1e429-028d-4d5b-9b11-0819f8b43680",
   "metadata": {},
   "source": [
    "# Jupyter AI"
   ]
  },
  {
   "cell_type": "markdown",
   "id": "3d7e6690-c960-420a-9191-fcc7385aaa73",
   "metadata": {},
   "source": [
    "Jupyter AI brings generative AI to Jupyter. Jupyter AI provides a user-friendly and powerful way to explore generative AI models in notebooks and improve your productivity in JupyterLab and the Jupyter Notebook. More specifically, Jupyter AI offers:\n",
    "\n",
    "- An %%ai (command) magic that turns the Jupyter notebook into a reproducible generative AI playground. This works anywhere the IPython kernel runs (JupyterLab, Jupyter Notebook, Google Colab, VSCode, etc.).\n",
    "\n",
    "- A native chat UI in JupyterLab that enables you to work with generative AI as a conversational assistant.\n",
    "\n",
    "- Support for a wide range of generative model providers and models (AI21, Anthropic, Cohere, Gemini, Hugging Face, MistralAI, OpenAI, SageMaker, NVIDIA, etc.). "
   ]
  },
  {
   "cell_type": "markdown",
   "id": "6d151917-8c64-4e62-a11b-81682df8ecac",
   "metadata": {},
   "source": [
    "Other tools one can use:\n",
    "- StarCoder from HuggingFace\n",
    "- GitHub Copilot \n",
    "- Amazon Code Whisperer"
   ]
  },
  {
   "cell_type": "markdown",
   "id": "9869be94-0880-47eb-9296-82021c8fc275",
   "metadata": {},
   "source": [
    "Python 3.12 might have some issues with a few of the libraries Jupyter AI uses. \n",
    "If you run into any trouble during installation, try using Python 3.11 – that version works perfectly.\n",
    "\n",
    "Steps to be followed, from terminal after installing python\n",
    "1.  *python -m venv virtual_env* to create a virtual environment\n",
    "2.  go to *virtual_env/Scripts/* and run *activate* file\n",
    "3.  *python -m pip install --upgrade pip* to get latest version\n",
    "4.  check version with *jupyter --version*\n",
    "5.  *pip install jupyter_ai* to get the AI functionality\n",
    "6.  pip install openai\n",
    "7.  pip install langchain_openai\n",
    "8.  Then once all is done then run *jypyter lab* in same terminal to create a jupyter in the virtual env.\n",
    "\n",
    "One can also check latest on Jupyter AI https://jupyter-ai.readthedocs.io/en/latest/"
   ]
  },
  {
   "cell_type": "code",
   "execution_count": null,
   "id": "902c0386-9268-4f0d-8ef9-0ada858d03cf",
   "metadata": {},
   "outputs": [],
   "source": []
  }
 ],
 "metadata": {
  "kernelspec": {
   "display_name": "Python 3 (ipykernel)",
   "language": "python",
   "name": "python3"
  },
  "language_info": {
   "codemirror_mode": {
    "name": "ipython",
    "version": 3
   },
   "file_extension": ".py",
   "mimetype": "text/x-python",
   "name": "python",
   "nbconvert_exporter": "python",
   "pygments_lexer": "ipython3",
   "version": "3.12.5"
  }
 },
 "nbformat": 4,
 "nbformat_minor": 5
}
