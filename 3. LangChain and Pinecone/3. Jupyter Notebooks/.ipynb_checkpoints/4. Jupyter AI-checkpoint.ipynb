{
 "cells": [
  {
   "cell_type": "code",
   "execution_count": null,
   "id": "3f2b5b9a-e8c0-4322-a54e-8b73aafa4cee",
   "metadata": {},
   "outputs": [],
   "source": []
  }
 ],
 "metadata": {
  "kernelspec": {
   "display_name": "Python 3 (ipykernel)",
   "language": "python",
   "name": "python3"
  },
  "language_info": {
   "name": ""
  }
 },
 "nbformat": 4,
 "nbformat_minor": 5
}
