{
 "cells": [
  {
   "cell_type": "markdown",
   "id": "ca4268c0-6769-4bf1-b46b-90f63207c03a",
   "metadata": {},
   "source": [
    "# RAG for private documents"
   ]
  },
  {
   "cell_type": "markdown",
   "id": "2866d577-8433-4a77-9e1f-c5cdd85cb7eb",
   "metadata": {},
   "source": [
    "How can LLMs learn new knowledge? \n",
    "\n",
    "    - Fine tuning on a training set\n",
    "    - MOdel inputs\n",
    "\n",
    "The recommended approach is to use model with embedded-based search.\n",
    "\n",
    "1. Prepare the search data\n",
    "    - load data into langchain documents\n",
    "    - split the document into chunks\n",
    "    - embed the chunks into numeric vectors\n",
    "    - save the chunks and embeddings to a vector database\n",
    "      \n",
    "2. Search, once per query\n",
    "    - Embed a user's question\n",
    "    - Using the question embedding and the chunk embeddings, rank the vectors by similarity to the question embedding, whee the neares vector represents chunks most relevant.\n",
    "\n",
    "3. Ask\n",
    "    - Insert the question and the most relevant chunks into a message to a GPT model\n",
    "    - Return GPT answer.\n",
    "\n"
   ]
  },
  {
   "cell_type": "markdown",
   "id": "e5c7d148-8e29-4b3c-81db-d71481b6fa87",
   "metadata": {},
   "source": [
    "# Load the documents"
   ]
  },
  {
   "cell_type": "code",
   "execution_count": null,
   "id": "5d86e4d6-e033-48c7-ae0f-25c6e74d7167",
   "metadata": {},
   "outputs": [],
   "source": [
    "# !pip install -q pypdf  #already installed so commenting out "
   ]
  },
  {
   "cell_type": "code",
   "execution_count": null,
   "id": "112e1202-29b0-4a2b-b6cc-767e0edf1496",
   "metadata": {},
   "outputs": [],
   "source": [
    "# !pip install -q docx2txt   #already installed so commenting out "
   ]
  },
  {
   "cell_type": "code",
   "execution_count": 11,
   "id": "97705749-3457-4e30-8f9a-2c3592050ba5",
   "metadata": {},
   "outputs": [
    {
     "name": "stderr",
     "output_type": "stream",
     "text": [
      "\n",
      "[notice] A new release of pip is available: 24.2 -> 24.3.1\n",
      "[notice] To update, run: python.exe -m pip install --upgrade pip\n"
     ]
    }
   ],
   "source": [
    "import os\n",
    "from dotenv import load_dotenv, find_dotenv\n",
    "load_dotenv(find_dotenv(), override=True)\n",
    "\n",
    "\n",
    "\n",
    "# loading PDF, DOCX and TXT files as LangChain Documents\n",
    "def load_document(file):\n",
    "    import os\n",
    "    name, extension = os.path.splitext(file)\n",
    "\n",
    "    if extension == '.pdf':\n",
    "    from langchain.document_loaders import PyPDFLoader\n",
    "        print(f'Loading {file}')\n",
    "        loader = PyPDFLoader(file) # cam also be used as pointer to online pdf in arg\n",
    "    elif extension == '.docx':\n",
    "        from langchain.document_loaders import Docx2txtLoader\n",
    "        print(f'Loading {file}')\n",
    "        loader = Docx2txtLoader(file)\n",
    "    # elif extension == '.txt':\n",
    "    #     from langchain.document_loaders import TextLoader\n",
    "    #     loader = TextLoader(file)\n",
    "    # else:\n",
    "    #     print('Document format is not supported!')\n",
    "    #     return None\n",
    "\n",
    "    data = loader.load()\n",
    "    return data\n",
    "\n",
    "\n"
   ]
  },
  {
   "cell_type": "markdown",
   "id": "54116339-dace-4072-94ca-694c6a1965e5",
   "metadata": {},
   "source": [
    "# Running the code"
   ]
  },
  {
   "cell_type": "code",
   "execution_count": 20,
   "id": "1328d84d-1525-4a78-9cdf-604d8545e3fc",
   "metadata": {},
   "outputs": [
    {
     "name": "stdout",
     "output_type": "stream",
     "text": [
      "Loading files/us_constitution.pdf\n",
      "{'source': 'files/us_constitution.pdf', 'page': 10}\n",
      "You have 41 pages in your document\n",
      "There are  1137 characters in page\n"
     ]
    }
   ],
   "source": [
    "# Loading the pdf document into LangChain \n",
    "data = load_document('files/us_constitution.pdf')\n",
    "#print(data[0].page_content)\n",
    "print(data[10].metadata)\n",
    "# print(f'You have {len(data)} pages in your document')\n",
    "# print(f'There are  {len(data[20].page_content)} characters in page')\n",
    "\n",
    "\n",
    "# # Splitting the document into chunks\n",
    "# chunks = chunk_data(data, chunk_size=256)\n",
    "\n",
    "# # Creating a Chroma vector store using the provided text chunks and embedding model (default is text-embedding-3-small)\n",
    "# vector_store = create_embeddings_chroma(chunks)"
   ]
  },
  {
   "cell_type": "code",
   "execution_count": null,
   "id": "5cdd0ccd-0f84-407e-a9f1-bde2d88f80c3",
   "metadata": {},
   "outputs": [],
   "source": []
  }
 ],
 "metadata": {
  "kernelspec": {
   "display_name": "Python 3 (ipykernel)",
   "language": "python",
   "name": "python3"
  },
  "language_info": {
   "codemirror_mode": {
    "name": "ipython",
    "version": 3
   },
   "file_extension": ".py",
   "mimetype": "text/x-python",
   "name": "python",
   "nbconvert_exporter": "python",
   "pygments_lexer": "ipython3",
   "version": "3.12.5"
  }
 },
 "nbformat": 4,
 "nbformat_minor": 5
}
