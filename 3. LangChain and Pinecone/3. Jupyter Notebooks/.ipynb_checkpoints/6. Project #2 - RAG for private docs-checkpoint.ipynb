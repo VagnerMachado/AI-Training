{
 "cells": [
  {
   "cell_type": "markdown",
   "id": "ca4268c0-6769-4bf1-b46b-90f63207c03a",
   "metadata": {},
   "source": [
    "# RAG for private documents"
   ]
  },
  {
   "cell_type": "markdown",
   "id": "2866d577-8433-4a77-9e1f-c5cdd85cb7eb",
   "metadata": {},
   "source": [
    "How can LLMs learn new knowledge? \n",
    "\n",
    "    - Fine tuning on a training set\n",
    "    - MOdel inputs\n",
    "\n",
    "The recommended approach is to use model with embedded-based search.\n",
    "\n",
    "1. Prepare the search data\n",
    "    - load data into langchain documents\n",
    "    - split the document into chunks\n",
    "    - embed the chunks into numeric vectors\n",
    "    - save the chunks and embeddings to a vector database\n",
    "      \n",
    "2. Search, once per query\n",
    "    - Embed a user's question\n",
    "    - Using the question embedding and the chunk embeddings, rank the vectors by similarity to the question embedding, whee the neares vector represents chunks most relevant.\n",
    "\n",
    "3. Ask\n",
    "    - Insert the question and the most relevant chunks into a message to a GPT model\n",
    "    - Return GPT answer.\n",
    "\n"
   ]
  },
  {
   "cell_type": "code",
   "execution_count": null,
   "id": "dfbabb03-c627-4995-875a-49bfa66df302",
   "metadata": {},
   "outputs": [],
   "source": []
  }
 ],
 "metadata": {
  "kernelspec": {
   "display_name": "Python 3 (ipykernel)",
   "language": "python",
   "name": "python3"
  },
  "language_info": {
   "codemirror_mode": {
    "name": "ipython",
    "version": 3
   },
   "file_extension": ".py",
   "mimetype": "text/x-python",
   "name": "python",
   "nbconvert_exporter": "python",
   "pygments_lexer": "ipython3",
   "version": "3.12.5"
  }
 },
 "nbformat": 4,
 "nbformat_minor": 5
}
