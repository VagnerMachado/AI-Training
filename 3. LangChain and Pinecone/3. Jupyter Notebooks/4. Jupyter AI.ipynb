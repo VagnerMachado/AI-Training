{
 "cells": [
  {
   "cell_type": "markdown",
   "id": "daa1e429-028d-4d5b-9b11-0819f8b43680",
   "metadata": {},
   "source": [
    "# Jupyter AI"
   ]
  },
  {
   "cell_type": "markdown",
   "id": "3d7e6690-c960-420a-9191-fcc7385aaa73",
   "metadata": {},
   "source": [
    "Welcome to Jupyter AI, which brings generative AI to Jupyter. Jupyter AI provides a user-friendly and powerful way to explore generative AI models in notebooks and improve your productivity in JupyterLab and the Jupyter Notebook. More specifically, Jupyter AI offers:\n",
    "\n",
    "An %%ai magic that turns the Jupyter notebook into a reproducible generative AI playground. This works anywhere the IPython kernel runs (JupyterLab, Jupyter Notebook, Google Colab, VSCode, etc.).\n",
    "\n",
    "A native chat UI in JupyterLab that enables you to work with generative AI as a conversational assistant.\n",
    "\n",
    "Support for a wide range of generative model providers and models (AI21, Anthropic, Cohere, Gemini, Hugging Face, MistralAI, OpenAI, SageMaker, NVIDIA, etc.). "
   ]
  },
  {
   "cell_type": "markdown",
   "id": "6d151917-8c64-4e62-a11b-81682df8ecac",
   "metadata": {},
   "source": [
    "Other tools one can use:\n",
    "- StarCoder from HuggingFace\n",
    "- GitHub Copilot \n",
    "- Amazon Code Whisperer"
   ]
  }
 ],
 "metadata": {
  "kernelspec": {
   "display_name": "Python 3 (ipykernel)",
   "language": "python",
   "name": "python3"
  },
  "language_info": {
   "codemirror_mode": {
    "name": "ipython",
    "version": 3
   },
   "file_extension": ".py",
   "mimetype": "text/x-python",
   "name": "python",
   "nbconvert_exporter": "python",
   "pygments_lexer": "ipython3",
   "version": "3.12.5"
  }
 },
 "nbformat": 4,
 "nbformat_minor": 5
}
